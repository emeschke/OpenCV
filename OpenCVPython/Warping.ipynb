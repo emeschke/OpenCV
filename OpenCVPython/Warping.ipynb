{
 "cells": [
  {
   "cell_type": "code",
   "execution_count": 22,
   "metadata": {
    "collapsed": true
   },
   "outputs": [],
   "source": [
    "import pylab as plt\n",
    "import numpy as np"
   ]
  },
  {
   "cell_type": "code",
   "execution_count": 719,
   "metadata": {},
   "outputs": [],
   "source": [
    "def transform(inputMat, transMat):\n",
    "    outputMat = np.zeros(inputMat.shape)\n",
    "    for i in range(0,inputMat.shape[0]):\n",
    "        for j in range(0,inputMat.shape[1]):\n",
    "            #Create the [row, col] coordinates as an ndarray; this is 1x3\n",
    "            coorPt = np.asarray([i,j,1])\n",
    "            #Multiply by the transform matrix to find the transformation x,y coordinates\n",
    "            transPt = np.matmul(transformMat, coorPt.transpose())\n",
    "            transPt = np.around(transPt, decimals=1).astype(int)\n",
    "            #Check that transform is within bounds; if it is set in output else throw away\n",
    "            if (transPt[0] < outputMat.shape[0] and transPt[1] < outputMat.shape[1]\n",
    "               and transPt[0] >= 0 and transPt[1] >= 0):\n",
    "                outputMat[transPt[0], transPt[1]] = inputMat[i][j]\n",
    "    return outputMat"
   ]
  },
  {
   "cell_type": "code",
   "execution_count": 720,
   "metadata": {},
   "outputs": [],
   "source": [
    "#Original matrix is 10x10, this makes a \"B\" in ASCII art.\n",
    "origMat = np.asarray(([1,2,3,4,5,6,0,0,0,0,0,0,0,0,0,0,0,0,0,0],\n",
    "           [7,0,0,0,0,0,8,0,0,0,0,0,0,0,0,0,0,0,0,0],\n",
    "           [9,0,0,0,0,0,0,10,0,0,0,0,0,0,0,0,0,0,0,0],\n",
    "           [11,0,0,0,0,0,12,0,0,0,0,0,0,0,0,0,0,0,0,0],\n",
    "           [13,14,15,16,17,18,0,0,0,0,0,0,0,0,0,0,0,0,0,0],\n",
    "           [19,0,0,0,0,0,20,0,0,0,0,0,0,0,0,0,0,0,0,0],\n",
    "           [21,0,0,0,0,0,0,22,0,0,0,0,0,0,0,0,0,0,0,0],\n",
    "           [23,0,0,0,0,0,24,0,0,0,0,0,0,0,0,0,0,0,0,0],\n",
    "           [25,26,27,28,29,30,0,0,0,0,0,0,0,0,0,0,0,0,0,0],\n",
    "           [0,0,0,0,0,0,0,0,0,0,0,0,0,0,0,0,0,0,0,0],\n",
    "           [0,0,0,0,0,0,0,0,0,0,0,0,0,0,0,0,0,0,0,0],\n",
    "           [0,0,0,0,0,0,0,0,0,0,0,0,0,0,0,0,0,0,0,0],\n",
    "           [0,0,0,0,0,0,0,0,0,0,0,0,0,0,0,0,0,0,0,0],\n",
    "           [0,0,0,0,0,0,0,0,0,0,0,0,0,0,0,0,0,0,0,0],\n",
    "           [0,0,0,0,0,0,0,0,0,0,0,0,0,0,0,0,0,0,0,0],\n",
    "           [0,0,0,0,0,0,0,0,0,0,0,0,0,0,0,0,0,0,0,0],\n",
    "           [0,0,0,0,0,0,0,0,0,0,0,0,0,0,0,0,0,0,0,0],\n",
    "           [0,0,0,0,0,0,0,0,0,0,0,0,0,0,0,0,0,0,0,0],\n",
    "           [0,0,0,0,0,0,0,0,0,0,0,0,0,0,0,0,0,0,0,0],\n",
    "           [0,0,0,0,0,0,0,0,0,0,0,0,0,0,0,0,0,0,0,0])\n",
    "          )\n",
    "straightMat = np.asarray(([1,2,3,4,5,6,7,8,9,10,11,12,13,14,15,16,17,18,19,20],\n",
    "           [0,1,0,0,0,0,0,0,0,0,0,0,0,0,0,0,0,0,0,0],\n",
    "           [0,0,1,0,0,0,0,0,0,0,0,0,0,0,0,0,0,0,0,0],\n",
    "           [0,0,0,1,0,0,0,0,0,0,0,0,0,0,0,0,0,0,0,0],\n",
    "           [0,0,0,0,1,0,0,0,0,0,0,0,0,0,0,0,0,0,0,0],\n",
    "           [0,0,0,0,0,1,0,0,0,0,0,0,0,0,0,0,0,0,0,0],\n",
    "           [0,0,0,0,0,0,1,0,0,0,0,0,0,0,0,0,0,0,0,0],\n",
    "           [0,0,0,0,0,0,0,1,0,0,0,0,0,0,0,0,0,0,0,0],\n",
    "           [0,0,0,0,0,0,0,0,1,0,0,0,0,0,0,0,0,0,0,0],\n",
    "           [0,0,0,0,0,0,0,0,0,1,0,0,0,0,0,0,0,0,0,0],\n",
    "           [0,0,0,0,0,0,0,0,0,0,1,0,0,0,0,0,0,0,0,0],\n",
    "           [0,0,0,0,0,0,0,0,0,0,0,1,0,0,0,0,0,0,0,0],\n",
    "           [0,0,0,0,0,0,0,0,0,0,0,0,1,0,0,0,0,0,0,0],\n",
    "           [0,0,0,0,0,0,0,0,0,0,0,0,0,1,0,0,0,0,0,0],\n",
    "           [0,0,0,0,0,0,0,0,0,0,0,0,0,0,1,0,0,0,0,0],\n",
    "           [0,0,0,0,0,0,0,0,0,0,0,0,0,0,0,1,0,0,0,0],\n",
    "           [0,0,0,0,0,0,0,0,0,0,0,0,0,0,0,0,1,0,0,0],\n",
    "           [0,0,0,0,0,0,0,0,0,0,0,0,0,0,0,0,0,1,0,0],\n",
    "           [0,0,0,0,0,0,0,0,0,0,0,0,0,0,0,0,0,0,1,0],\n",
    "           [0,0,0,0,0,0,0,0,0,0,0,0,0,0,0,0,0,0,0,1])\n",
    "          )\n",
    "testMat = np.asarray(([1,0], \n",
    "                      [1,0]))"
   ]
  },
  {
   "cell_type": "code",
   "execution_count": 721,
   "metadata": {},
   "outputs": [
    {
     "data": {
      "image/png": "[encoded data removed]",
      "text/plain": [
       "<matplotlib.figure.Figure at 0x7fac504a0410>"
      ]
     },
     "metadata": {},
     "output_type": "display_data"
    }
   ],
   "source": [
    "im = plt.imshow(origMat)\n",
    "plt.show()"
   ]
  },
  {
   "cell_type": "markdown",
   "metadata": {},
   "source": [
    "Transformation matrix, based on concepts from Computer Vision, Szelski chapter 2.  \n",
    "Four types of translations use this matrix:\n",
    "1. Translation\n",
    "2. Rotation (+ translation)\n",
    "3. Scaled rotation\n",
    "4. Affine\n",
    "\n",
    "Rotation matrix is of the form:\n",
    "[1, 0 ,0]\n",
    "[0, 1, 0] \n"
   ]
  },
  {
   "cell_type": "code",
   "execution_count": 742,
   "metadata": {},
   "outputs": [],
   "source": [
    "#Translation--this moves the array in the x direction by M(1,3) and the y direction by M(2,3)--so in this case 5,5.\n",
    "transformMat = np.asarray(([1,0,6],\n",
    "                    [0,1,6],))"
   ]
  },
  {
   "cell_type": "code",
   "execution_count": 743,
   "metadata": {},
   "outputs": [],
   "source": [
    "currMat = transform(origMat, transformMat)"
   ]
  },
  {
   "cell_type": "code",
   "execution_count": 744,
   "metadata": {},
   "outputs": [
    {
     "data": {
      "image/png": "[encoded data removed]",
      "text/plain": [
       "<matplotlib.figure.Figure at 0x7fac507251d0>"
      ]
     },
     "metadata": {},
     "output_type": "display_data"
    }
   ],
   "source": [
    "im = plt.imshow(currMat)\n",
    "plt.show()"
   ]
  },
  {
   "cell_type": "code",
   "execution_count": 734,
   "metadata": {},
   "outputs": [],
   "source": [
    "#Scaling--this scales the size of the matrix by a*x coordinates,  b*y coordinates.  \n",
    "#[a, 0, 0]\n",
    "#[0, b, 0]\n",
    "transformMat = np.asarray(([.8,0,0],\n",
    "                    [0,2,0],))"
   ]
  },
  {
   "cell_type": "code",
   "execution_count": 735,
   "metadata": {},
   "outputs": [],
   "source": [
    "currMat = transform(origMat, transformMat)"
   ]
  },
  {
   "cell_type": "code",
   "execution_count": 736,
   "metadata": {},
   "outputs": [
    {
     "data": {
      "image/png": "[encoded data removed]",
      "text/plain": [
       "<matplotlib.figure.Figure at 0x7fac505ab990>"
      ]
     },
     "metadata": {},
     "output_type": "display_data"
    }
   ],
   "source": [
    "im = plt.imshow(currMat)\n",
    "plt.show()"
   ]
  },
  {
   "cell_type": "code",
   "execution_count": 745,
   "metadata": {
    "collapsed": true
   },
   "outputs": [],
   "source": [
    "#Rotation, can be expressed in the transformation matrix by  \n",
    "#[cos t, -sin t, 0]\n",
    "#[sin t, cos t, 0]\n",
    "#This is a 45 degree translation counterclockwise; first shifted down and over 6 pixels.\n",
    "transformMat = np.asarray(([.70,-.70,6],\n",
    "                    [.70,0.70,6],))"
   ]
  },
  {
   "cell_type": "code",
   "execution_count": 746,
   "metadata": {},
   "outputs": [],
   "source": [
    "currMat = transform(origMat, transformMat)"
   ]
  },
  {
   "cell_type": "code",
   "execution_count": 747,
   "metadata": {},
   "outputs": [
    {
     "data": {
      "image/png": "[encoded data removed]",
      "text/plain": [
       "<matplotlib.figure.Figure at 0x7fac50481d50>"
      ]
     },
     "metadata": {},
     "output_type": "display_data"
    }
   ],
   "source": [
    "plt.imshow(origMat)\n",
    "plt.show()"
   ]
  },
  {
   "cell_type": "code",
   "execution_count": 748,
   "metadata": {},
   "outputs": [
    {
     "data": {
      "image/png": "[encoded data removed]",
      "text/plain": [
       "<matplotlib.figure.Figure at 0x7fac503da090>"
      ]
     },
     "metadata": {},
     "output_type": "display_data"
    }
   ],
   "source": [
    "plt.imshow(currMat)\n",
    "plt.show()"
   ]
  },
  {
   "cell_type": "code",
   "execution_count": null,
   "metadata": {},
   "outputs": [],
   "source": []
  },
  {
   "cell_type": "code",
   "execution_count": null,
   "metadata": {
    "collapsed": true
   },
   "outputs": [],
   "source": []
  },
  {
   "cell_type": "code",
   "execution_count": null,
   "metadata": {
    "collapsed": true
   },
   "outputs": [],
   "source": []
  }
 ],
 "metadata": {
  "kernelspec": {
   "display_name": "Python [Root]",
   "language": "python",
   "name": "Python [Root]"
  },
  "language_info": {
   "codemirror_mode": {
    "name": "ipython",
    "version": 2
   },
   "file_extension": ".py",
   "mimetype": "text/x-python",
   "name": "python",
   "nbconvert_exporter": "python",
   "pygments_lexer": "ipython2",
   "version": "2.7.13"
  }
 },
 "nbformat": 4,
 "nbformat_minor": 2
}
